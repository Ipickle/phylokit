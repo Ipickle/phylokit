{
 "cells": [
  {
   "cell_type": "code",
   "execution_count": null,
   "metadata": {},
   "outputs": [],
   "source": [
    "import os\n",
    "import sys\n",
    "\n",
    "import msprime\n",
    "import numpy as np\n",
    "\n",
    "# import local phylokit modules\n",
    "phylokit_path = os.path.abspath(os.path.join(os.pardir))\n",
    "if phylokit_path not in sys.path:\n",
    "    sys.path.append(phylokit_path)\n",
    "\n",
    "import phylokit as pk"
   ]
  },
  {
   "cell_type": "markdown",
   "metadata": {},
   "source": [
    "# 1. Setup Client"
   ]
  },
  {
   "cell_type": "markdown",
   "metadata": {},
   "source": [
    "### Option 1 -> Using dask distributed"
   ]
  },
  {
   "cell_type": "code",
   "execution_count": null,
   "metadata": {},
   "outputs": [],
   "source": [
    "# from dask.distributed import Client\n",
    "# Client = Client(\"127.0.0.1:8786\") # the ip address of the scheduler"
   ]
  },
  {
   "cell_type": "markdown",
   "metadata": {},
   "source": [
    "### Option 2 -> Using a local cluster"
   ]
  },
  {
   "cell_type": "code",
   "execution_count": null,
   "metadata": {},
   "outputs": [],
   "source": [
    "from dask.distributed import Client\n",
    "from dask.distributed import LocalCluster\n",
    "\n",
    "localcluster = LocalCluster(n_workers=5, threads_per_worker=1)\n",
    "client = Client(localcluster)\n",
    "client"
   ]
  },
  {
   "cell_type": "markdown",
   "metadata": {},
   "source": [
    "### Option 3 -> Using coiled.io "
   ]
  },
  {
   "cell_type": "code",
   "execution_count": null,
   "metadata": {},
   "outputs": [],
   "source": [
    "# from coiled import Cluster\n",
    "# from dask.distributed import Client\n",
    "\n",
    "# with Cluster(name=\"test\", n_workers=1, package_sync=True) as cluster:\n",
    "#     client = Client(cluster)\n",
    "#     client"
   ]
  },
  {
   "cell_type": "markdown",
   "metadata": {},
   "source": [
    "# 2. Load Your Tree Sequence"
   ]
  },
  {
   "cell_type": "markdown",
   "metadata": {},
   "source": [
    "### Option 1 -> Simulate a tree sequence"
   ]
  },
  {
   "cell_type": "code",
   "execution_count": null,
   "metadata": {},
   "outputs": [],
   "source": [
    "def simulate_ts(num_samples, num_sites, seed=1234):\n",
    "    tsa = msprime.sim_ancestry(\n",
    "        num_samples, sequence_length=num_sites, ploidy=1, random_seed=seed\n",
    "    )\n",
    "    return msprime.sim_mutations(tsa, rate=0.01, random_seed=seed)\n",
    "\n",
    "def create_mutation_tree(num_samples, sequence_length, chunk_size, seed=1234):\n",
    "    ts_in = simulate_ts(num_samples, sequence_length, seed=seed)\n",
    "    pk_mts = pk.parsimony.hartigan.ts_to_dataset(ts_in, chunks=chunk_size)\n",
    "    ds_in = pk.from_tskit(ts_in.first())\n",
    "    ds = ds_in.merge(pk_mts)\n",
    "    return ds\n",
    "\n",
    "pk_mts = create_mutation_tree(10000, 1000, 100)\n",
    "pk_mts"
   ]
  },
  {
   "cell_type": "markdown",
   "metadata": {},
   "source": [
    "### Option 2 -> Open a TreeSequence dataset from (e.g. local disk, s3, etc.)"
   ]
  },
  {
   "cell_type": "code",
   "execution_count": null,
   "metadata": {},
   "outputs": [],
   "source": [
    "# pk_mts = pk.open_dataset(\"/YOUR/PATH/HERE/dataset/tree.zarr\")\n",
    "# pk_mts"
   ]
  },
  {
   "cell_type": "markdown",
   "metadata": {},
   "source": [
    "# 3. Calculate"
   ]
  },
  {
   "cell_type": "code",
   "execution_count": null,
   "metadata": {},
   "outputs": [],
   "source": [
    "x = pk.get_hartigan_parsimony_score(pk_mts)\n",
    "result = x.compute()\n",
    "result"
   ]
  },
  {
   "cell_type": "code",
   "execution_count": null,
   "metadata": {},
   "outputs": [],
   "source": [
    "y = pk.append_parsimony_score(pk_mts)\n",
    "result = y.compute()\n",
    "result"
   ]
  }
 ],
 "metadata": {
  "kernelspec": {
   "display_name": "Python 3.9.13 ('phylokit')",
   "language": "python",
   "name": "python3"
  },
  "language_info": {
   "codemirror_mode": {
    "name": "ipython",
    "version": 3
   },
   "file_extension": ".py",
   "mimetype": "text/x-python",
   "name": "python",
   "nbconvert_exporter": "python",
   "pygments_lexer": "ipython3",
   "version": "3.9.13"
  },
  "orig_nbformat": 4,
  "vscode": {
   "interpreter": {
    "hash": "286d8d44d19aa2af9f155a70c381edfe67b107b36c691563f2f5bb65ac963338"
   }
  }
 },
 "nbformat": 4,
 "nbformat_minor": 2
}
