{
 "cells": [
  {
   "cell_type": "code",
   "execution_count": null,
   "metadata": {},
   "outputs": [],
   "source": [
    "import os\n",
    "import sys\n",
    "import tskit\n",
    "\n",
    "phylokit_path = os.path.abspath(os.path.join(os.pardir))\n",
    "if phylokit_path not in sys.path:\n",
    "    sys.path.append(phylokit_path)\n",
    "\n",
    "import phylokit as pk\n",
    "\n",
    "from igraph import Graph, EdgeSeq\n",
    "\n",
    "tsk_tree = tskit.Tree.generate_balanced(10)\n",
    "pk_tree = pk.from_tskit(tsk_tree)\n",
    "\n",
    "vertices = pk_tree.traversal_postorder.data\n",
    "g = Graph()\n",
    "\n",
    "for u in vertices:\n",
    "    g.add_vertex(u)\n",
    "for u, parent in enumerate(pk_tree.node_parent.data):\n",
    "    if parent != -1:\n",
    "        g.add_edges([(parent, u)])\n",
    "\n",
    "lay = g.layout('rt')\n",
    "\n",
    "position = {k: lay[k] for k in vertices}\n",
    "Y = [lay[k][1] for k in vertices]\n",
    "M = max(Y)\n",
    "\n",
    "es = EdgeSeq(g) # sequence of edges\n",
    "E = g.get_edgelist()\n",
    "\n",
    "Xn = [position[k][0] for k in position]\n",
    "Yn = [M-position[k][1] for k in position]\n",
    "Xe = []\n",
    "Ye = []\n",
    "for edge in E:\n",
    "    Xe+=[position[edge[0]][0],position[edge[1]][0], None]\n",
    "    Ye+=[M-position[edge[0]][1],M-position[edge[1]][1], None]"
   ]
  },
  {
   "cell_type": "code",
   "execution_count": null,
   "metadata": {},
   "outputs": [],
   "source": [
    "import plotly.graph_objects as go\n",
    "\n",
    "\n",
    "fig = go.Figure()\n",
    "\n",
    "fig.add_trace(go.Scatter(x=Xe,\n",
    "                   y=Ye,\n",
    "                   mode='lines',\n",
    "                   line=dict(color='#204e66', width=1),\n",
    "                   hoverinfo='none'\n",
    "                   ))\n",
    "fig.add_trace(go.Scatter(x=Xn,\n",
    "                  y=Yn,\n",
    "                  mode='markers',\n",
    "                  name='nodes',\n",
    "                  marker=dict(symbol='circle-dot',\n",
    "                                size=18,\n",
    "                                color='#DB4551',\n",
    "                                line=dict(color='rgb(50,50,50)', width=1)\n",
    "                                ),\n",
    "                  text=vertices,\n",
    "                  hoverinfo='text',\n",
    "                  opacity=0.8\n",
    "                  ))\n",
    "\n"
   ]
  }
 ],
 "metadata": {
  "kernelspec": {
   "display_name": "Python 3.9.13 ('tskit')",
   "language": "python",
   "name": "python3"
  },
  "language_info": {
   "codemirror_mode": {
    "name": "ipython",
    "version": 3
   },
   "file_extension": ".py",
   "mimetype": "text/x-python",
   "name": "python",
   "nbconvert_exporter": "python",
   "pygments_lexer": "ipython3",
   "version": "3.9.13"
  },
  "orig_nbformat": 4,
  "vscode": {
   "interpreter": {
    "hash": "9276984e1f289179d523f94485bdc0be4a97efe0efc9a71d26026f80f8387b2b"
   }
  }
 },
 "nbformat": 4,
 "nbformat_minor": 2
}
